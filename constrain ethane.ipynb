{
 "cells": [
  {
   "cell_type": "code",
   "execution_count": 1,
   "metadata": {},
   "outputs": [],
   "source": [
    "from ase.build import molecule\n",
    "\n",
    "\n",
    "from ase.io import read\n",
    "from ase.visualize import view\n",
    "from math import *\n",
    "from ase.constraints import FixInternals\n",
    "import numpy as np\n",
    "\n",
    "import torchani\n",
    "model = torchani.models.ANI1x().double()\n",
    "from ase.optimize import BFGS\n",
    "\n",
    "import matplotlib.pyplot as plt\n",
    "%matplotlib inline"
   ]
  },
  {
   "cell_type": "code",
   "execution_count": 2,
   "metadata": {},
   "outputs": [],
   "source": [
    "ethan = molecule('C2H6')"
   ]
  },
  {
   "cell_type": "code",
   "execution_count": null,
   "metadata": {},
   "outputs": [],
   "source": [
    "# ethan.set_dihedral(5,1,0,2,angle=360,indices=[2,3,4])"
   ]
  },
  {
   "cell_type": "code",
   "execution_count": 6,
   "metadata": {},
   "outputs": [
    {
     "data": {
      "text/plain": [
       "180.0"
      ]
     },
     "execution_count": 6,
     "metadata": {},
     "output_type": "execute_result"
    }
   ],
   "source": [
    "ethan.get_dihedral(5,1,0,2)"
   ]
  },
  {
   "cell_type": "code",
   "execution_count": null,
   "metadata": {},
   "outputs": [],
   "source": [
    "view(ethan)"
   ]
  },
  {
   "cell_type": "code",
   "execution_count": 4,
   "metadata": {},
   "outputs": [],
   "source": [
    "ethan.set_calculator(model.ase())"
   ]
  },
  {
   "cell_type": "code",
   "execution_count": 5,
   "metadata": {},
   "outputs": [
    {
     "name": "stdout",
     "output_type": "stream",
     "text": [
      "      Step     Time          Energy         fmax\n",
      "BFGS:    0 16:33:38    -2171.504590        0.0389\n",
      "BFGS:    1 16:33:38    -2171.504680        0.0233\n",
      "BFGS:    2 16:33:38    -2171.504770        0.0123\n",
      "BFGS:    3 16:33:38    -2171.504785        0.0115\n",
      "BFGS:    4 16:33:38    -2171.504824        0.0063\n",
      "BFGS:    5 16:33:38    -2171.504829        0.0022\n",
      "BFGS:    6 16:33:38    -2171.504830        0.0002\n",
      "BFGS:    7 16:33:38    -2171.504830        0.0000\n"
     ]
    },
    {
     "data": {
      "text/plain": [
       "True"
      ]
     },
     "execution_count": 5,
     "metadata": {},
     "output_type": "execute_result"
    }
   ],
   "source": [
    "BFGS(ethan).run(fmax=0.0001)"
   ]
  },
  {
   "cell_type": "code",
   "execution_count": 7,
   "metadata": {},
   "outputs": [
    {
     "name": "stdout",
     "output_type": "stream",
     "text": [
      "      Step     Time          Energy         fmax\n",
      "BFGS:    0 16:33:52    -2171.504830        0.0000\n",
      "      Step     Time          Energy         fmax\n",
      "BFGS:    0 16:33:52    -2171.360878        0.2506\n",
      "BFGS:    1 16:33:52    -2171.362287        0.0866\n",
      "BFGS:    2 16:33:52    -2171.363183        0.0770\n",
      "BFGS:    3 16:33:52    -2171.364844        0.1050\n",
      "BFGS:    4 16:33:52    -2171.365163        0.0540\n",
      "BFGS:    5 16:33:53    -2171.365293        0.0171\n",
      "BFGS:    6 16:33:53    -2171.365320        0.0081\n",
      "BFGS:    7 16:33:53    -2171.365324        0.0034\n",
      "BFGS:    8 16:33:53    -2171.365325        0.0005\n",
      "BFGS:    9 16:33:53    -2171.365325        0.0000\n",
      "      Step     Time          Energy         fmax\n",
      "BFGS:    0 16:33:53    -2171.500531        0.2424\n",
      "BFGS:    1 16:33:53    -2171.501850        0.0821\n",
      "BFGS:    2 16:33:53    -2171.502666        0.0761\n",
      "BFGS:    3 16:33:53    -2171.504315        0.1289\n",
      "BFGS:    4 16:33:53    -2171.504695        0.0621\n",
      "BFGS:    5 16:33:53    -2171.504805        0.0152\n",
      "BFGS:    6 16:33:53    -2171.504825        0.0076\n",
      "BFGS:    7 16:33:53    -2171.504830        0.0034\n",
      "BFGS:    8 16:33:53    -2171.504830        0.0005\n",
      "BFGS:    9 16:33:53    -2171.504830        0.0000\n",
      "      Step     Time          Energy         fmax\n",
      "BFGS:    0 16:33:54    -2171.360877        0.2385\n",
      "BFGS:    1 16:33:54    -2171.362259        0.0864\n",
      "BFGS:    2 16:33:54    -2171.363166        0.0776\n",
      "BFGS:    3 16:33:54    -2171.364644        0.1133\n",
      "BFGS:    4 16:33:54    -2171.365125        0.0589\n",
      "BFGS:    5 16:33:54    -2171.365280        0.0223\n",
      "BFGS:    6 16:33:54    -2171.365316        0.0114\n",
      "BFGS:    7 16:33:54    -2171.365323        0.0057\n",
      "BFGS:    8 16:33:54    -2171.365324        0.0015\n",
      "BFGS:    9 16:33:54    -2171.365324        0.0013\n",
      "BFGS:   10 16:33:54    -2171.365324        0.0016\n",
      "BFGS:   11 16:33:54    -2171.365325        0.0010\n",
      "BFGS:   12 16:33:54    -2171.365325        0.0003\n",
      "BFGS:   13 16:33:54    -2171.365325        0.0003\n",
      "BFGS:   14 16:33:55    -2171.365325        0.0006\n",
      "BFGS:   15 16:33:55    -2171.365325        0.0007\n",
      "BFGS:   16 16:33:55    -2171.365325        0.0004\n",
      "BFGS:   17 16:33:55    -2171.365325        0.0001\n",
      "BFGS:   18 16:33:55    -2171.365325        0.0001\n",
      "      Step     Time          Energy         fmax\n",
      "BFGS:    0 16:33:55    -2171.500530        0.2425\n",
      "BFGS:    1 16:33:55    -2171.501849        0.0821\n",
      "BFGS:    2 16:33:55    -2171.502666        0.0761\n",
      "BFGS:    3 16:33:55    -2171.504315        0.1289\n",
      "BFGS:    4 16:33:55    -2171.504695        0.0621\n",
      "BFGS:    5 16:33:55    -2171.504805        0.0152\n",
      "BFGS:    6 16:33:55    -2171.504825        0.0076\n",
      "BFGS:    7 16:33:55    -2171.504830        0.0034\n",
      "BFGS:    8 16:33:55    -2171.504830        0.0005\n",
      "BFGS:    9 16:33:55    -2171.504830        0.0000\n",
      "      Step     Time          Energy         fmax\n",
      "BFGS:    0 16:33:56    -2171.360877        0.2506\n",
      "BFGS:    1 16:33:56    -2171.362287        0.0866\n",
      "BFGS:    2 16:33:56    -2171.363183        0.0770\n",
      "BFGS:    3 16:33:56    -2171.364844        0.1051\n",
      "BFGS:    4 16:33:56    -2171.365163        0.0540\n",
      "BFGS:    5 16:33:56    -2171.365293        0.0171\n",
      "BFGS:    6 16:33:56    -2171.365320        0.0081\n",
      "BFGS:    7 16:33:56    -2171.365324        0.0034\n",
      "BFGS:    8 16:33:56    -2171.365325        0.0005\n",
      "BFGS:    9 16:33:56    -2171.365325        0.0000\n",
      "      Step     Time          Energy         fmax\n",
      "BFGS:    0 16:33:56    -2171.500531        0.2424\n",
      "BFGS:    1 16:33:56    -2171.501850        0.0821\n",
      "BFGS:    2 16:33:56    -2171.502666        0.0761\n",
      "BFGS:    3 16:33:57    -2171.504315        0.1289\n",
      "BFGS:    4 16:33:57    -2171.504695        0.0621\n",
      "BFGS:    5 16:33:57    -2171.504805        0.0152\n",
      "BFGS:    6 16:33:57    -2171.504825        0.0076\n",
      "BFGS:    7 16:33:57    -2171.504830        0.0034\n",
      "BFGS:    8 16:33:57    -2171.504830        0.0005\n",
      "BFGS:    9 16:33:57    -2171.504830        0.0000\n"
     ]
    }
   ],
   "source": [
    "dihedral_indices1 = [5,1,0,2]\n",
    "En=[]\n",
    "\n",
    "for i in [180,120,60,0,60,120,180]:\n",
    "    ethan.set_dihedral(5,1,0,2,angle=i,indices=[2,3,4])\n",
    "    dihedral1 = [np.deg2rad(i), dihedral_indices1]\n",
    "    ethan.set_constraint(FixInternals(dihedrals=[dihedral1]))\n",
    "    BFGS(atoms=ethan,maxstep=0.04).run(fmax=0.0001,steps=1000)\n",
    "    En.append(ethan.get_potential_energy())"
   ]
  },
  {
   "cell_type": "code",
   "execution_count": 16,
   "metadata": {},
   "outputs": [
    {
     "data": {
      "text/plain": [
       "[<matplotlib.lines.Line2D at 0x7f95269fd8d0>]"
      ]
     },
     "execution_count": 16,
     "metadata": {},
     "output_type": "execute_result"
    },
    {
     "data": {
      "image/png": "[encoded data removed]",
      "text/plain": [
       "<Figure size 432x288 with 1 Axes>"
      ]
     },
     "metadata": {
      "needs_background": "light"
     },
     "output_type": "display_data"
    }
   ],
   "source": [
    "plt.plot(range(7),En)"
   ]
  },
  {
   "cell_type": "code",
   "execution_count": null,
   "metadata": {},
   "outputs": [],
   "source": []
  }
 ],
 "metadata": {
  "kernelspec": {
   "display_name": "Python 3",
   "language": "python",
   "name": "python3"
  },
  "language_info": {
   "codemirror_mode": {
    "name": "ipython",
    "version": 3
   },
   "file_extension": ".py",
   "mimetype": "text/x-python",
   "name": "python",
   "nbconvert_exporter": "python",
   "pygments_lexer": "ipython3",
   "version": "3.7.4"
  }
 },
 "nbformat": 4,
 "nbformat_minor": 2
}
