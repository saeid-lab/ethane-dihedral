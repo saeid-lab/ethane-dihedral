{
 "cells": [
  {
   "cell_type": "code",
   "execution_count": 1,
   "metadata": {},
   "outputs": [],
   "source": [
    "from ase.build import molecule\n",
    "\n",
    "\n",
    "from ase.io import read\n",
    "from ase.visualize import view\n",
    "from math import *\n",
    "from ase.constraints import FixInternals\n",
    "import numpy as np\n",
    "\n",
    "import torchani\n",
    "model = torchani.models.ANI1x().double()\n",
    "from ase.optimize import BFGS\n",
    "\n",
    "import matplotlib.pyplot as plt\n",
    "%matplotlib inline"
   ]
  },
  {
   "cell_type": "code",
   "execution_count": 2,
   "metadata": {},
   "outputs": [],
   "source": [
    "ethan = molecule('C2H6')"
   ]
  },
  {
   "cell_type": "code",
   "execution_count": null,
   "metadata": {},
   "outputs": [],
   "source": [
    "# ethan.set_dihedral(5,1,0,2,angle=360,indices=[2,3,4])"
   ]
  },
  {
   "cell_type": "code",
   "execution_count": null,
   "metadata": {},
   "outputs": [],
   "source": [
    "ethan.get_dihedral(5,1,0,2)"
   ]
  },
  {
   "cell_type": "code",
   "execution_count": null,
   "metadata": {},
   "outputs": [],
   "source": [
    "view(ethan)"
   ]
  },
  {
   "cell_type": "code",
   "execution_count": 3,
   "metadata": {},
   "outputs": [],
   "source": [
    "ethan.set_calculator(model.ase())"
   ]
  },
  {
   "cell_type": "code",
   "execution_count": 4,
   "metadata": {},
   "outputs": [
    {
     "name": "stdout",
     "output_type": "stream",
     "text": [
      "      Step     Time          Energy         fmax\n",
      "BFGS:    0 14:23:50    -2171.504590        0.0389\n",
      "BFGS:    1 14:23:50    -2171.504680        0.0233\n",
      "BFGS:    2 14:23:50    -2171.504770        0.0123\n",
      "BFGS:    3 14:23:50    -2171.504785        0.0115\n",
      "BFGS:    4 14:23:50    -2171.504824        0.0063\n",
      "BFGS:    5 14:23:50    -2171.504829        0.0022\n",
      "BFGS:    6 14:23:50    -2171.504830        0.0002\n",
      "BFGS:    7 14:23:50    -2171.504830        0.0000\n"
     ]
    },
    {
     "data": {
      "text/plain": [
       "True"
      ]
     },
     "execution_count": 4,
     "metadata": {},
     "output_type": "execute_result"
    }
   ],
   "source": [
    "BFGS(ethan).run(fmax=0.0001)"
   ]
  },
  {
   "cell_type": "code",
   "execution_count": 5,
   "metadata": {
    "scrolled": true
   },
   "outputs": [
    {
     "name": "stdout",
     "output_type": "stream",
     "text": [
      "      Step     Time          Energy         fmax\n",
      "BFGS:    0 14:23:55    -2171.360878        0.2506\n",
      "BFGS:    1 14:23:55    -2171.362287        0.0866\n",
      "BFGS:    2 14:23:55    -2171.363183        0.0770\n",
      "BFGS:    3 14:23:55    -2171.364844        0.1050\n",
      "BFGS:    4 14:23:55    -2171.365163        0.0540\n",
      "BFGS:    5 14:23:55    -2171.365293        0.0171\n",
      "BFGS:    6 14:23:55    -2171.365320        0.0081\n",
      "BFGS:    7 14:23:55    -2171.365324        0.0034\n",
      "BFGS:    8 14:23:55    -2171.365325        0.0005\n",
      "BFGS:    9 14:23:56    -2171.365325        0.0000\n",
      "      Step     Time          Energy         fmax\n",
      "BFGS:    0 14:23:56    -2171.436688        0.1403\n",
      "BFGS:    1 14:23:56    -2171.437352        0.0757\n",
      "BFGS:    2 14:23:56    -2171.438126        0.0818\n",
      "BFGS:    3 14:23:56    -2171.439760        0.1778\n",
      "BFGS:    4 14:23:56    -2171.440966        0.1566\n",
      "BFGS:    5 14:23:56    -2171.441592        0.0617\n",
      "BFGS:    6 14:23:56    -2171.441797        0.0410\n",
      "BFGS:    7 14:23:56    -2171.441930        0.0366\n",
      "BFGS:    8 14:23:56    -2171.442058        0.0408\n",
      "BFGS:    9 14:23:56    -2171.442162        0.0258\n",
      "BFGS:   10 14:23:56    -2171.442219        0.0156\n",
      "BFGS:   11 14:23:56    -2171.442241        0.0112\n",
      "BFGS:   12 14:23:56    -2171.442247        0.0046\n",
      "BFGS:   13 14:23:56    -2171.442248        0.0035\n",
      "BFGS:   14 14:23:56    -2171.442249        0.0029\n",
      "BFGS:   15 14:23:56    -2171.442251        0.0033\n",
      "BFGS:   16 14:23:56    -2171.442251        0.0025\n",
      "BFGS:   17 14:23:56    -2171.442252        0.0012\n",
      "BFGS:   18 14:23:56    -2171.442252        0.0014\n",
      "BFGS:   19 14:23:56    -2171.442252        0.0014\n",
      "BFGS:   20 14:23:57    -2171.442252        0.0013\n",
      "BFGS:   21 14:23:57    -2171.442252        0.0006\n",
      "BFGS:   22 14:23:57    -2171.442252        0.0002\n",
      "BFGS:   23 14:23:57    -2171.442252        0.0001\n",
      "BFGS:   24 14:23:57    -2171.442252        0.0001\n",
      "BFGS:   25 14:23:57    -2171.442252        0.0001\n",
      "      Step     Time          Energy         fmax\n",
      "BFGS:    0 14:23:57    -2171.498515        0.0999\n",
      "BFGS:    1 14:23:57    -2171.499189        0.0865\n",
      "BFGS:    2 14:23:57    -2171.501081        0.1481\n",
      "BFGS:    3 14:23:57    -2171.502793        0.1791\n",
      "BFGS:    4 14:23:57    -2171.503832        0.0987\n",
      "BFGS:    5 14:23:57    -2171.504158        0.0442\n",
      "BFGS:    6 14:23:57    -2171.504319        0.0419\n",
      "BFGS:    7 14:23:57    -2171.504491        0.0467\n",
      "BFGS:    8 14:23:57    -2171.504651        0.0412\n",
      "BFGS:    9 14:23:57    -2171.504754        0.0201\n",
      "BFGS:   10 14:23:57    -2171.504798        0.0154\n",
      "BFGS:   11 14:23:57    -2171.504811        0.0100\n",
      "BFGS:   12 14:23:57    -2171.504816        0.0068\n",
      "BFGS:   13 14:23:57    -2171.504819        0.0063\n",
      "BFGS:   14 14:23:58    -2171.504823        0.0068\n",
      "BFGS:   15 14:23:58    -2171.504827        0.0051\n",
      "BFGS:   16 14:23:58    -2171.504829        0.0026\n",
      "BFGS:   17 14:23:58    -2171.504829        0.0021\n",
      "BFGS:   18 14:23:58    -2171.504829        0.0014\n",
      "BFGS:   19 14:23:58    -2171.504830        0.0015\n",
      "BFGS:   20 14:23:58    -2171.504830        0.0008\n",
      "BFGS:   21 14:23:58    -2171.504830        0.0002\n",
      "BFGS:   22 14:23:58    -2171.504830        0.0002\n",
      "BFGS:   23 14:23:58    -2171.504830        0.0002\n",
      "BFGS:   24 14:23:58    -2171.504830        0.0001\n",
      "BFGS:   25 14:23:58    -2171.504830        0.0000\n",
      "      Step     Time          Energy         fmax\n",
      "BFGS:    0 14:23:58    -2171.436278        0.1060\n",
      "BFGS:    1 14:23:58    -2171.436939        0.0850\n",
      "BFGS:    2 14:23:58    -2171.438515        0.1161\n",
      "BFGS:    3 14:23:58    -2171.440001        0.1550\n",
      "BFGS:    4 14:23:58    -2171.440853        0.0969\n",
      "BFGS:    5 14:23:59    -2171.441222        0.0497\n",
      "BFGS:    6 14:23:59    -2171.441445        0.0427\n",
      "BFGS:    7 14:23:59    -2171.441666        0.0534\n",
      "BFGS:    8 14:23:59    -2171.441896        0.0483\n",
      "BFGS:    9 14:23:59    -2171.442088        0.0318\n",
      "BFGS:   10 14:23:59    -2171.442196        0.0255\n",
      "BFGS:   11 14:23:59    -2171.442231        0.0134\n",
      "BFGS:   12 14:23:59    -2171.442239        0.0057\n",
      "BFGS:   13 14:23:59    -2171.442242        0.0050\n",
      "BFGS:   14 14:23:59    -2171.442247        0.0066\n",
      "BFGS:   15 14:23:59    -2171.442251        0.0066\n",
      "BFGS:   16 14:23:59    -2171.442253        0.0037\n",
      "BFGS:   17 14:23:59    -2171.442254        0.0022\n",
      "BFGS:   18 14:23:59    -2171.442254        0.0021\n",
      "BFGS:   19 14:24:00    -2171.442255        0.0017\n",
      "BFGS:   20 14:24:00    -2171.442255        0.0009\n",
      "BFGS:   21 14:24:00    -2171.442255        0.0002\n",
      "BFGS:   22 14:24:00    -2171.442255        0.0001\n",
      "BFGS:   23 14:24:00    -2171.442255        0.0001\n",
      "BFGS:   24 14:24:00    -2171.442255        0.0001\n",
      "BFGS:   25 14:24:00    -2171.442255        0.0000\n",
      "      Step     Time          Energy         fmax\n",
      "BFGS:    0 14:24:00    -2171.360579        0.1566\n",
      "BFGS:    1 14:24:00    -2171.361219        0.0696\n",
      "BFGS:    2 14:24:00    -2171.361727        0.0707\n",
      "BFGS:    3 14:24:00    -2171.363076        0.1297\n",
      "BFGS:    4 14:24:00    -2171.363665        0.0962\n",
      "BFGS:    5 14:24:00    -2171.364030        0.0456\n",
      "BFGS:    6 14:24:00    -2171.364253        0.0439\n",
      "BFGS:    7 14:24:01    -2171.364506        0.0581\n",
      "BFGS:    8 14:24:01    -2171.364775        0.0599\n",
      "BFGS:    9 14:24:01    -2171.365047        0.0376\n",
      "BFGS:   10 14:24:01    -2171.365221        0.0297\n",
      "BFGS:   11 14:24:01    -2171.365288        0.0156\n",
      "BFGS:   12 14:24:01    -2171.365303        0.0095\n",
      "BFGS:   13 14:24:01    -2171.365309        0.0085\n",
      "BFGS:   14 14:24:01    -2171.365314        0.0076\n",
      "BFGS:   15 14:24:01    -2171.365320        0.0073\n",
      "BFGS:   16 14:24:01    -2171.365323        0.0045\n",
      "BFGS:   17 14:24:01    -2171.365324        0.0020\n",
      "BFGS:   18 14:24:01    -2171.365324        0.0021\n",
      "BFGS:   19 14:24:01    -2171.365324        0.0020\n",
      "BFGS:   20 14:24:01    -2171.365325        0.0010\n",
      "BFGS:   21 14:24:01    -2171.365325        0.0002\n",
      "BFGS:   22 14:24:01    -2171.365325        0.0000\n",
      "      Step     Time          Energy         fmax\n",
      "BFGS:    0 14:24:02    -2171.436687        0.1409\n",
      "BFGS:    1 14:24:02    -2171.437331        0.0767\n",
      "BFGS:    2 14:24:02    -2171.438046        0.0831\n",
      "BFGS:    3 14:24:02    -2171.439624        0.1747\n",
      "BFGS:    4 14:24:02    -2171.440764        0.1545\n",
      "BFGS:    5 14:24:02    -2171.441379        0.0601\n",
      "BFGS:    6 14:24:02    -2171.441606        0.0519\n",
      "BFGS:    7 14:24:02    -2171.441793        0.0448\n",
      "BFGS:    8 14:24:02    -2171.441991        0.0582\n",
      "BFGS:    9 14:24:02    -2171.442176        0.0408\n",
      "BFGS:   10 14:24:02    -2171.442295        0.0229\n",
      "BFGS:   11 14:24:02    -2171.442347        0.0170\n",
      "BFGS:   12 14:24:02    -2171.442360        0.0091\n",
      "BFGS:   13 14:24:02    -2171.442364        0.0065\n",
      "BFGS:   14 14:24:02    -2171.442367        0.0061\n",
      "BFGS:   15 14:24:03    -2171.442371        0.0066\n",
      "BFGS:   16 14:24:03    -2171.442374        0.0055\n",
      "BFGS:   17 14:24:03    -2171.442374        0.0019\n",
      "BFGS:   18 14:24:03    -2171.442374        0.0009\n",
      "BFGS:   19 14:24:03    -2171.442375        0.0007\n",
      "BFGS:   20 14:24:03    -2171.442375        0.0006\n",
      "BFGS:   21 14:24:03    -2171.442375        0.0002\n",
      "BFGS:   22 14:24:03    -2171.442375        0.0001\n",
      "      Step     Time          Energy         fmax\n",
      "BFGS:    0 14:24:03    -2171.498388        0.1012\n",
      "BFGS:    1 14:24:03    -2171.499042        0.0874\n",
      "BFGS:    2 14:24:03    -2171.500768        0.1381\n",
      "BFGS:    3 14:24:03    -2171.502413        0.1733\n",
      "BFGS:    4 14:24:03    -2171.503467        0.1000\n",
      "BFGS:    5 14:24:03    -2171.503819        0.0537\n",
      "BFGS:    6 14:24:03    -2171.504016        0.0476\n",
      "BFGS:    7 14:24:04    -2171.504257        0.0612\n",
      "BFGS:    8 14:24:04    -2171.504510        0.0599\n",
      "BFGS:    9 14:24:04    -2171.504691        0.0300\n",
      "BFGS:   10 14:24:04    -2171.504778        0.0193\n",
      "BFGS:   11 14:24:04    -2171.504804        0.0126\n",
      "BFGS:   12 14:24:04    -2171.504811        0.0086\n",
      "BFGS:   13 14:24:04    -2171.504816        0.0081\n",
      "BFGS:   14 14:24:04    -2171.504822        0.0085\n",
      "BFGS:   15 14:24:04    -2171.504827        0.0067\n",
      "BFGS:   16 14:24:04    -2171.504829        0.0033\n",
      "BFGS:   17 14:24:04    -2171.504830        0.0007\n",
      "BFGS:   18 14:24:04    -2171.504830        0.0002\n",
      "BFGS:   19 14:24:04    -2171.504830        0.0002\n",
      "BFGS:   20 14:24:04    -2171.504830        0.0001\n",
      "BFGS:   21 14:24:05    -2171.504830        0.0000\n",
      "      Step     Time          Energy         fmax\n",
      "BFGS:    0 14:24:05    -2171.436277        0.1064\n"
     ]
    },
    {
     "name": "stdout",
     "output_type": "stream",
     "text": [
      "BFGS:    1 14:24:05    -2171.436925        0.0851\n",
      "BFGS:    2 14:24:05    -2171.438451        0.1144\n",
      "BFGS:    3 14:24:05    -2171.439934        0.1556\n",
      "BFGS:    4 14:24:05    -2171.440773        0.0980\n",
      "BFGS:    5 14:24:05    -2171.441153        0.0512\n",
      "BFGS:    6 14:24:05    -2171.441397        0.0454\n",
      "BFGS:    7 14:24:05    -2171.441651        0.0612\n",
      "BFGS:    8 14:24:05    -2171.441928        0.0572\n",
      "BFGS:    9 14:24:05    -2171.442170        0.0331\n",
      "BFGS:   10 14:24:05    -2171.442307        0.0252\n",
      "BFGS:   11 14:24:05    -2171.442351        0.0131\n",
      "BFGS:   12 14:24:05    -2171.442361        0.0073\n",
      "BFGS:   13 14:24:05    -2171.442364        0.0066\n",
      "BFGS:   14 14:24:05    -2171.442368        0.0065\n",
      "BFGS:   15 14:24:05    -2171.442372        0.0073\n",
      "BFGS:   16 14:24:06    -2171.442374        0.0044\n",
      "BFGS:   17 14:24:06    -2171.442374        0.0012\n",
      "BFGS:   18 14:24:06    -2171.442374        0.0008\n",
      "BFGS:   19 14:24:06    -2171.442375        0.0009\n",
      "BFGS:   20 14:24:06    -2171.442375        0.0005\n",
      "BFGS:   21 14:24:06    -2171.442375        0.0001\n",
      "BFGS:   22 14:24:06    -2171.442375        0.0001\n",
      "      Step     Time          Energy         fmax\n",
      "BFGS:    0 14:24:06    -2171.360385        0.1578\n",
      "BFGS:    1 14:24:06    -2171.361042        0.0754\n",
      "BFGS:    2 14:24:06    -2171.361581        0.0769\n",
      "BFGS:    3 14:24:06    -2171.362954        0.1315\n",
      "BFGS:    4 14:24:06    -2171.363564        0.0975\n",
      "BFGS:    5 14:24:06    -2171.363952        0.0531\n",
      "BFGS:    6 14:24:06    -2171.364200        0.0494\n",
      "BFGS:    7 14:24:06    -2171.364478        0.0605\n",
      "BFGS:    8 14:24:06    -2171.364766        0.0605\n",
      "BFGS:    9 14:24:07    -2171.365036        0.0422\n",
      "BFGS:   10 14:24:07    -2171.365210        0.0334\n",
      "BFGS:   11 14:24:07    -2171.365279        0.0209\n",
      "BFGS:   12 14:24:07    -2171.365299        0.0100\n",
      "BFGS:   13 14:24:07    -2171.365308        0.0072\n",
      "BFGS:   14 14:24:07    -2171.365315        0.0071\n",
      "BFGS:   15 14:24:07    -2171.365320        0.0056\n",
      "BFGS:   16 14:24:07    -2171.365321        0.0030\n",
      "BFGS:   17 14:24:07    -2171.365323        0.0036\n",
      "BFGS:   18 14:24:07    -2171.365324        0.0031\n",
      "BFGS:   19 14:24:07    -2171.365324        0.0027\n",
      "BFGS:   20 14:24:07    -2171.365325        0.0010\n",
      "BFGS:   21 14:24:07    -2171.365325        0.0002\n",
      "BFGS:   22 14:24:07    -2171.365325        0.0002\n",
      "BFGS:   23 14:24:07    -2171.365325        0.0002\n",
      "BFGS:   24 14:24:07    -2171.365325        0.0002\n",
      "BFGS:   25 14:24:08    -2171.365325        0.0001\n",
      "      Step     Time          Energy         fmax\n",
      "BFGS:    0 14:24:08    -2171.436688        0.1406\n",
      "BFGS:    1 14:24:08    -2171.437343        0.0752\n",
      "BFGS:    2 14:24:08    -2171.438088        0.0808\n",
      "BFGS:    3 14:24:08    -2171.439677        0.1745\n",
      "BFGS:    4 14:24:08    -2171.440825        0.1528\n",
      "BFGS:    5 14:24:08    -2171.441428        0.0593\n",
      "BFGS:    6 14:24:08    -2171.441638        0.0471\n",
      "BFGS:    7 14:24:08    -2171.441799        0.0407\n",
      "BFGS:    8 14:24:08    -2171.441959        0.0494\n",
      "BFGS:    9 14:24:08    -2171.442099        0.0326\n",
      "BFGS:   10 14:24:08    -2171.442186        0.0207\n",
      "BFGS:   11 14:24:08    -2171.442224        0.0147\n",
      "BFGS:   12 14:24:08    -2171.442236        0.0093\n",
      "BFGS:   13 14:24:08    -2171.442242        0.0075\n",
      "BFGS:   14 14:24:08    -2171.442246        0.0072\n",
      "BFGS:   15 14:24:08    -2171.442250        0.0061\n",
      "BFGS:   16 14:24:09    -2171.442253        0.0045\n",
      "BFGS:   17 14:24:09    -2171.442254        0.0023\n",
      "BFGS:   18 14:24:09    -2171.442254        0.0019\n",
      "BFGS:   19 14:24:09    -2171.442254        0.0020\n",
      "BFGS:   20 14:24:09    -2171.442255        0.0013\n",
      "BFGS:   21 14:24:09    -2171.442255        0.0003\n",
      "BFGS:   22 14:24:09    -2171.442255        0.0002\n",
      "BFGS:   23 14:24:09    -2171.442255        0.0002\n",
      "BFGS:   24 14:24:09    -2171.442255        0.0002\n",
      "BFGS:   25 14:24:09    -2171.442255        0.0001\n",
      "      Step     Time          Energy         fmax\n",
      "BFGS:    0 14:24:09    -2171.498525        0.0999\n",
      "BFGS:    1 14:24:09    -2171.499190        0.0865\n",
      "BFGS:    2 14:24:09    -2171.501022        0.1454\n",
      "BFGS:    3 14:24:09    -2171.502723        0.1786\n",
      "BFGS:    4 14:24:09    -2171.503772        0.1007\n",
      "BFGS:    5 14:24:09    -2171.504112        0.0416\n",
      "BFGS:    6 14:24:10    -2171.504281        0.0417\n",
      "BFGS:    7 14:24:10    -2171.504465        0.0483\n",
      "BFGS:    8 14:24:10    -2171.504636        0.0432\n",
      "BFGS:    9 14:24:10    -2171.504746        0.0239\n",
      "BFGS:   10 14:24:10    -2171.504794        0.0161\n",
      "BFGS:   11 14:24:10    -2171.504809        0.0092\n",
      "BFGS:   12 14:24:10    -2171.504814        0.0056\n",
      "BFGS:   13 14:24:10    -2171.504818        0.0055\n",
      "BFGS:   14 14:24:10    -2171.504823        0.0071\n",
      "BFGS:   15 14:24:10    -2171.504826        0.0061\n",
      "BFGS:   16 14:24:10    -2171.504828        0.0029\n",
      "BFGS:   17 14:24:10    -2171.504829        0.0026\n",
      "BFGS:   18 14:24:10    -2171.504829        0.0024\n",
      "BFGS:   19 14:24:10    -2171.504830        0.0017\n",
      "BFGS:   20 14:24:10    -2171.504830        0.0007\n",
      "BFGS:   21 14:24:10    -2171.504830        0.0002\n",
      "BFGS:   22 14:24:11    -2171.504830        0.0002\n",
      "BFGS:   23 14:24:11    -2171.504830        0.0002\n",
      "BFGS:   24 14:24:11    -2171.504830        0.0001\n",
      "BFGS:   25 14:24:11    -2171.504830        0.0000\n",
      "      Step     Time          Energy         fmax\n",
      "BFGS:    0 14:24:11    -2171.436278        0.1055\n",
      "BFGS:    1 14:24:11    -2171.436949        0.0841\n",
      "BFGS:    2 14:24:11    -2171.438584        0.1189\n",
      "BFGS:    3 14:24:11    -2171.440106        0.1574\n",
      "BFGS:    4 14:24:11    -2171.440994        0.0984\n",
      "BFGS:    5 14:24:11    -2171.441375        0.0411\n",
      "BFGS:    6 14:24:11    -2171.441590        0.0409\n",
      "BFGS:    7 14:24:11    -2171.441792        0.0479\n",
      "BFGS:    8 14:24:11    -2171.441991        0.0418\n",
      "BFGS:    9 14:24:11    -2171.442144        0.0263\n",
      "BFGS:   10 14:24:11    -2171.442222        0.0203\n",
      "BFGS:   11 14:24:11    -2171.442244        0.0097\n",
      "BFGS:   12 14:24:12    -2171.442248        0.0037\n",
      "BFGS:   13 14:24:12    -2171.442249        0.0027\n",
      "BFGS:   14 14:24:12    -2171.442250        0.0026\n",
      "BFGS:   15 14:24:12    -2171.442251        0.0032\n",
      "BFGS:   16 14:24:12    -2171.442251        0.0019\n",
      "BFGS:   17 14:24:12    -2171.442252        0.0012\n",
      "BFGS:   18 14:24:12    -2171.442252        0.0009\n",
      "BFGS:   19 14:24:12    -2171.442252        0.0014\n",
      "BFGS:   20 14:24:12    -2171.442252        0.0010\n",
      "BFGS:   21 14:24:12    -2171.442252        0.0003\n",
      "BFGS:   22 14:24:12    -2171.442252        0.0001\n",
      "BFGS:   23 14:24:12    -2171.442252        0.0001\n",
      "BFGS:   24 14:24:12    -2171.442252        0.0001\n",
      "BFGS:   25 14:24:12    -2171.442252        0.0001\n",
      "      Step     Time          Energy         fmax\n",
      "BFGS:    0 14:24:12    -2171.360344        0.3145\n",
      "BFGS:    1 14:24:12    -2171.356039        0.3968\n",
      "BFGS:    2 14:24:13    -2171.361033        0.0931\n",
      "BFGS:    3 14:24:13    -2171.361616        0.0686\n",
      "BFGS:    4 14:24:13    -2171.362214        0.0726\n",
      "BFGS:    5 14:24:13    -2171.363063        0.0906\n",
      "BFGS:    6 14:24:13    -2171.363910        0.0846\n",
      "BFGS:    7 14:24:13    -2171.364427        0.0547\n",
      "BFGS:    8 14:24:13    -2171.364643        0.0333\n",
      "BFGS:    9 14:24:13    -2171.364808        0.0381\n",
      "BFGS:   10 14:24:13    -2171.365028        0.0516\n",
      "BFGS:   11 14:24:13    -2171.365225        0.0448\n",
      "BFGS:   12 14:24:13    -2171.365308        0.0193\n",
      "BFGS:   13 14:24:13    -2171.365321        0.0049\n",
      "BFGS:   14 14:24:13    -2171.365323        0.0035\n",
      "BFGS:   15 14:24:13    -2171.365324        0.0026\n",
      "BFGS:   16 14:24:13    -2171.365324        0.0018\n",
      "BFGS:   17 14:24:13    -2171.365325        0.0007\n",
      "BFGS:   18 14:24:14    -2171.365325        0.0004\n",
      "BFGS:   19 14:24:14    -2171.365325        0.0004\n",
      "BFGS:   20 14:24:14    -2171.365325        0.0004\n",
      "BFGS:   21 14:24:14    -2171.365325        0.0003\n",
      "BFGS:   22 14:24:14    -2171.365325        0.0002\n",
      "BFGS:   23 14:24:14    -2171.365325        0.0001\n"
     ]
    }
   ],
   "source": [
    "dihedral_indices1 = [5,1,0,2]\n",
    "En=[]\n",
    "\n",
    "for i in [0,30,60,90,120,150,180,210,240,270,300,330,360]:\n",
    "    ethan.set_dihedral(5,1,0,2,angle=i,indices=[2,3,4])\n",
    "    dihedral1 = [np.deg2rad(i), dihedral_indices1]\n",
    "    ethan.set_constraint(FixInternals(dihedrals=[dihedral1]))\n",
    "    BFGS(atoms=ethan,maxstep=0.04).run(fmax=0.0001,steps=1000)\n",
    "    En.append(ethan.get_potential_energy())"
   ]
  },
  {
   "cell_type": "code",
   "execution_count": 6,
   "metadata": {},
   "outputs": [
    {
     "data": {
      "text/plain": [
       "[<matplotlib.lines.Line2D at 0x7ff0f5585dd0>]"
      ]
     },
     "execution_count": 6,
     "metadata": {},
     "output_type": "execute_result"
    },
    {
     "data": {
      "image/png": "[encoded data removed]",
      "text/plain": [
       "<Figure size 432x288 with 1 Axes>"
      ]
     },
     "metadata": {
      "needs_background": "light"
     },
     "output_type": "display_data"
    }
   ],
   "source": [
    "plt.plot(range(13),En)"
   ]
  },
  {
   "cell_type": "code",
   "execution_count": 7,
   "metadata": {},
   "outputs": [],
   "source": [
    "y = np.array(En)\n",
    "x = np.array(range(13))"
   ]
  },
  {
   "cell_type": "code",
   "execution_count": 8,
   "metadata": {},
   "outputs": [],
   "source": [
    "from scipy.interpolate import make_interp_spline, BSpline"
   ]
  },
  {
   "cell_type": "code",
   "execution_count": 9,
   "metadata": {},
   "outputs": [
    {
     "data": {
      "image/png": "[encoded data removed]",
      "text/plain": [
       "<Figure size 432x288 with 1 Axes>"
      ]
     },
     "metadata": {
      "needs_background": "light"
     },
     "output_type": "display_data"
    }
   ],
   "source": [
    "xnew = np.linspace(x.min(),x.max(),300) #300 represents number of points to make between T.min and T.max\n",
    "\n",
    "spl = make_interp_spline(x, y, k=3) #BSpline object\n",
    "power_smooth = spl(xnew)\n",
    "\n",
    "plt.plot(xnew,power_smooth)\n",
    "plt.show()"
   ]
  },
  {
   "cell_type": "code",
   "execution_count": null,
   "metadata": {},
   "outputs": [],
   "source": []
  }
 ],
 "metadata": {
  "kernelspec": {
   "display_name": "Python 3",
   "language": "python",
   "name": "python3"
  },
  "language_info": {
   "codemirror_mode": {
    "name": "ipython",
    "version": 3
   },
   "file_extension": ".py",
   "mimetype": "text/x-python",
   "name": "python",
   "nbconvert_exporter": "python",
   "pygments_lexer": "ipython3",
   "version": "3.7.4"
  }
 },
 "nbformat": 4,
 "nbformat_minor": 2
}
